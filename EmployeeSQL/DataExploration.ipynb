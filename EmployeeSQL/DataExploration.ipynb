{
 "cells": [
  {
   "cell_type": "markdown",
   "metadata": {},
   "source": [
    "# Data exploration\n",
    "This notebook is used to navigate the different CSV file and understand how the data is structured and find whether entries in a column are unique or repeated. This is used to determine which fields can be used as primary keys and for which tables composite keys may be required. It is also used to determine the appropriate datatypes.\n",
    "\n",
    "**NOTE**: while this code is useful to automatically extract information about the data, the head of the DataFrame are displayed to allow the user to visually check the data and make educated decisions. This is especially useful when it comes to date that this code does not yet handled automatically."
   ]
  },
  {
   "cell_type": "code",
   "execution_count": 50,
   "metadata": {},
   "outputs": [],
   "source": [
    "# Dependencies\n",
    "import pandas as pd\n",
    "from pathlib import Path\n",
    "from pandas.api.types import is_string_dtype\n",
    "from pandas.api.types import is_numeric_dtype"
   ]
  },
  {
   "cell_type": "markdown",
   "metadata": {},
   "source": [
    "## Exploration function\n",
    "The function below is used to analyse the data in the files. It looks at the length of the file (number of rows), the number of columns and whether each column can be used as a primary key by comparing the number of unique values to the number or rows in the file. It also determine whether the values are numerical or strings. In case of strings, it looks at the maximum number of character to determine what the maximum VARCHAR length should be in the database.\n",
    "\n",
    "The function return a DataFrame containing the CSV file data for further analysis."
   ]
  },
  {
   "cell_type": "code",
   "execution_count": 74,
   "metadata": {},
   "outputs": [],
   "source": [
    "def explore_data(filename):\n",
    "    # Print file name\n",
    "    print(f\"File: {filename}\")\n",
    "\n",
    "    # Load the CSV file into a DataFrame\n",
    "    csvfile = Path(f'data/{filename}')\n",
    "    df = pd.read_csv(csvfile)\n",
    "\n",
    "    # Size of file\n",
    "    print(f\"Length of file: {len(df)} rows\")\n",
    "\n",
    "    # Number of columns\n",
    "    num_col = len(df.columns)\n",
    "    print(f\"Number of columns: {num_col}\")\n",
    "\n",
    "    for i in range(num_col):\n",
    "        # Count the number of unique values in column i\n",
    "        output_string = f\"- Column {i}: '{df.columns[i]}' has {df[df.columns[i]].nunique()} unique values\"\n",
    "    \n",
    "        # If the number of unique value in column i is the same as the number of rows...\n",
    "        if df[df.columns[i]].nunique() == len(df):\n",
    "            # ... then the column can be used as a primary key\n",
    "            output_string += ', and can be used as primary key'\n",
    "    \n",
    "        # Check whether the data is numeric\n",
    "        if is_numeric_dtype(df[df.columns[i]]):\n",
    "            # The code will suggest to use INT for any numeric value. This must be checked by the user.\n",
    "            output_string += '. Values are numeric. Suggest: INT'\n",
    "        \n",
    "        # Check whether the data are characters\n",
    "        elif is_string_dtype(df[df.columns[i]]):\n",
    "\n",
    "            max_length = df[df.columns[i]].map(lambda x: len(x)).max()\n",
    "\n",
    "            if max_length == 1:\n",
    "                # If there is only one charachter, CHAR(1) is suggested as data type.\n",
    "                output_string += f\". Values are strings. Suggest: CHAR(1)\"\n",
    "            else:\n",
    "                # If the maximum number of character is greater than one, VARCHAR(max) is suggested, a larger number may be used.\n",
    "                output_string += f\". Values are strings. Suggest: VARCHAR({max_length})\"\n",
    "\n",
    "        # State that the datatype cannot be determine\n",
    "        else:\n",
    "            output_string += '. Values are of an unknown type.'\n",
    "\n",
    "        # Print the information about column i\n",
    "        print(output_string)\n",
    "\n",
    "    print('Extract of data:')\n",
    "    display(df.head(2))\n",
    "    return df"
   ]
  },
  {
   "cell_type": "markdown",
   "metadata": {},
   "source": [
    "## File 1: departments.csv"
   ]
  },
  {
   "cell_type": "code",
   "execution_count": 75,
   "metadata": {},
   "outputs": [
    {
     "name": "stdout",
     "output_type": "stream",
     "text": [
      "File: departments.csv\n",
      "Length of file: 9 rows\n",
      "Number of columns: 2\n",
      "- Column 0: 'dept_no' has 9 unique values, and can be used as primary key. Values are strings. Suggest: VARCHAR(4)\n",
      "- Column 1: 'dept_name' has 9 unique values, and can be used as primary key. Values are strings. Suggest: VARCHAR(18)\n",
      "Extract of data:\n"
     ]
    },
    {
     "data": {
      "text/html": [
       "<div>\n",
       "<style scoped>\n",
       "    .dataframe tbody tr th:only-of-type {\n",
       "        vertical-align: middle;\n",
       "    }\n",
       "\n",
       "    .dataframe tbody tr th {\n",
       "        vertical-align: top;\n",
       "    }\n",
       "\n",
       "    .dataframe thead th {\n",
       "        text-align: right;\n",
       "    }\n",
       "</style>\n",
       "<table border=\"1\" class=\"dataframe\">\n",
       "  <thead>\n",
       "    <tr style=\"text-align: right;\">\n",
       "      <th></th>\n",
       "      <th>dept_no</th>\n",
       "      <th>dept_name</th>\n",
       "    </tr>\n",
       "  </thead>\n",
       "  <tbody>\n",
       "    <tr>\n",
       "      <th>0</th>\n",
       "      <td>d001</td>\n",
       "      <td>Marketing</td>\n",
       "    </tr>\n",
       "    <tr>\n",
       "      <th>1</th>\n",
       "      <td>d002</td>\n",
       "      <td>Finance</td>\n",
       "    </tr>\n",
       "  </tbody>\n",
       "</table>\n",
       "</div>"
      ],
      "text/plain": [
       "  dept_no  dept_name\n",
       "0    d001  Marketing\n",
       "1    d002    Finance"
      ]
     },
     "metadata": {},
     "output_type": "display_data"
    }
   ],
   "source": [
    "filename = 'departments.csv'\n",
    "df = explore_data(filename)"
   ]
  },
  {
   "cell_type": "markdown",
   "metadata": {},
   "source": [
    "## File 2: dept_emp.csv"
   ]
  },
  {
   "cell_type": "code",
   "execution_count": 76,
   "metadata": {},
   "outputs": [
    {
     "name": "stdout",
     "output_type": "stream",
     "text": [
      "File: dept_emp.csv\n",
      "Length of file: 331603 rows\n",
      "Number of columns: 2\n",
      "- Column 0: 'emp_no' has 300024 unique values. Values are numeric. Suggest: INT\n",
      "- Column 1: 'dept_no' has 9 unique values. Values are strings. Suggest: VARCHAR(4)\n",
      "Extract of data:\n"
     ]
    },
    {
     "data": {
      "text/html": [
       "<div>\n",
       "<style scoped>\n",
       "    .dataframe tbody tr th:only-of-type {\n",
       "        vertical-align: middle;\n",
       "    }\n",
       "\n",
       "    .dataframe tbody tr th {\n",
       "        vertical-align: top;\n",
       "    }\n",
       "\n",
       "    .dataframe thead th {\n",
       "        text-align: right;\n",
       "    }\n",
       "</style>\n",
       "<table border=\"1\" class=\"dataframe\">\n",
       "  <thead>\n",
       "    <tr style=\"text-align: right;\">\n",
       "      <th></th>\n",
       "      <th>emp_no</th>\n",
       "      <th>dept_no</th>\n",
       "    </tr>\n",
       "  </thead>\n",
       "  <tbody>\n",
       "    <tr>\n",
       "      <th>0</th>\n",
       "      <td>10001</td>\n",
       "      <td>d005</td>\n",
       "    </tr>\n",
       "    <tr>\n",
       "      <th>1</th>\n",
       "      <td>10002</td>\n",
       "      <td>d007</td>\n",
       "    </tr>\n",
       "  </tbody>\n",
       "</table>\n",
       "</div>"
      ],
      "text/plain": [
       "   emp_no dept_no\n",
       "0   10001    d005\n",
       "1   10002    d007"
      ]
     },
     "metadata": {},
     "output_type": "display_data"
    }
   ],
   "source": [
    "filename = 'dept_emp.csv'\n",
    "df = explore_data(filename)"
   ]
  },
  {
   "cell_type": "markdown",
   "metadata": {},
   "source": [
    "## File 3: dept_manager.csv"
   ]
  },
  {
   "cell_type": "code",
   "execution_count": 77,
   "metadata": {},
   "outputs": [
    {
     "name": "stdout",
     "output_type": "stream",
     "text": [
      "File: dept_manager.csv\n",
      "Length of file: 24 rows\n",
      "Number of columns: 2\n",
      "- Column 0: 'dept_no' has 9 unique values. Values are strings. Suggest: VARCHAR(4)\n",
      "- Column 1: 'emp_no' has 24 unique values, and can be used as primary key. Values are numeric. Suggest: INT\n",
      "Extract of data:\n"
     ]
    },
    {
     "data": {
      "text/html": [
       "<div>\n",
       "<style scoped>\n",
       "    .dataframe tbody tr th:only-of-type {\n",
       "        vertical-align: middle;\n",
       "    }\n",
       "\n",
       "    .dataframe tbody tr th {\n",
       "        vertical-align: top;\n",
       "    }\n",
       "\n",
       "    .dataframe thead th {\n",
       "        text-align: right;\n",
       "    }\n",
       "</style>\n",
       "<table border=\"1\" class=\"dataframe\">\n",
       "  <thead>\n",
       "    <tr style=\"text-align: right;\">\n",
       "      <th></th>\n",
       "      <th>dept_no</th>\n",
       "      <th>emp_no</th>\n",
       "    </tr>\n",
       "  </thead>\n",
       "  <tbody>\n",
       "    <tr>\n",
       "      <th>0</th>\n",
       "      <td>d001</td>\n",
       "      <td>110022</td>\n",
       "    </tr>\n",
       "    <tr>\n",
       "      <th>1</th>\n",
       "      <td>d001</td>\n",
       "      <td>110039</td>\n",
       "    </tr>\n",
       "  </tbody>\n",
       "</table>\n",
       "</div>"
      ],
      "text/plain": [
       "  dept_no  emp_no\n",
       "0    d001  110022\n",
       "1    d001  110039"
      ]
     },
     "metadata": {},
     "output_type": "display_data"
    }
   ],
   "source": [
    "filename = 'dept_manager.csv'\n",
    "df = explore_data(filename)"
   ]
  },
  {
   "cell_type": "markdown",
   "metadata": {},
   "source": [
    "## File 4: employees.csv"
   ]
  },
  {
   "cell_type": "code",
   "execution_count": 78,
   "metadata": {},
   "outputs": [
    {
     "name": "stdout",
     "output_type": "stream",
     "text": [
      "File: employees.csv\n",
      "Length of file: 300024 rows\n",
      "Number of columns: 7\n",
      "- Column 0: 'emp_no' has 300024 unique values, and can be used as primary key. Values are numeric. Suggest: INT\n",
      "- Column 1: 'emp_title_id' has 7 unique values. Values are strings. Suggest: VARCHAR(5)\n",
      "- Column 2: 'birth_date' has 4750 unique values. Values are strings. Suggest: VARCHAR(10)\n",
      "- Column 3: 'first_name' has 1276 unique values. Values are strings. Suggest: VARCHAR(14)\n",
      "- Column 4: 'last_name' has 1638 unique values. Values are strings. Suggest: VARCHAR(16)\n",
      "- Column 5: 'sex' has 2 unique values. Values are strings. Suggest: CHAR(1)\n",
      "- Column 6: 'hire_date' has 5434 unique values. Values are strings. Suggest: VARCHAR(10)\n",
      "Extract of data:\n"
     ]
    },
    {
     "data": {
      "text/html": [
       "<div>\n",
       "<style scoped>\n",
       "    .dataframe tbody tr th:only-of-type {\n",
       "        vertical-align: middle;\n",
       "    }\n",
       "\n",
       "    .dataframe tbody tr th {\n",
       "        vertical-align: top;\n",
       "    }\n",
       "\n",
       "    .dataframe thead th {\n",
       "        text-align: right;\n",
       "    }\n",
       "</style>\n",
       "<table border=\"1\" class=\"dataframe\">\n",
       "  <thead>\n",
       "    <tr style=\"text-align: right;\">\n",
       "      <th></th>\n",
       "      <th>emp_no</th>\n",
       "      <th>emp_title_id</th>\n",
       "      <th>birth_date</th>\n",
       "      <th>first_name</th>\n",
       "      <th>last_name</th>\n",
       "      <th>sex</th>\n",
       "      <th>hire_date</th>\n",
       "    </tr>\n",
       "  </thead>\n",
       "  <tbody>\n",
       "    <tr>\n",
       "      <th>0</th>\n",
       "      <td>473302</td>\n",
       "      <td>s0001</td>\n",
       "      <td>7/25/1953</td>\n",
       "      <td>Hideyuki</td>\n",
       "      <td>Zallocco</td>\n",
       "      <td>M</td>\n",
       "      <td>4/28/1990</td>\n",
       "    </tr>\n",
       "    <tr>\n",
       "      <th>1</th>\n",
       "      <td>475053</td>\n",
       "      <td>e0002</td>\n",
       "      <td>11/18/1954</td>\n",
       "      <td>Byong</td>\n",
       "      <td>Delgrande</td>\n",
       "      <td>F</td>\n",
       "      <td>9/7/1991</td>\n",
       "    </tr>\n",
       "  </tbody>\n",
       "</table>\n",
       "</div>"
      ],
      "text/plain": [
       "   emp_no emp_title_id  birth_date first_name  last_name sex  hire_date\n",
       "0  473302        s0001   7/25/1953   Hideyuki   Zallocco   M  4/28/1990\n",
       "1  475053        e0002  11/18/1954      Byong  Delgrande   F   9/7/1991"
      ]
     },
     "metadata": {},
     "output_type": "display_data"
    }
   ],
   "source": [
    "filename = 'employees.csv'\n",
    "df = explore_data(filename)"
   ]
  },
  {
   "cell_type": "markdown",
   "metadata": {},
   "source": [
    "## File 5: salaries.csv"
   ]
  },
  {
   "cell_type": "code",
   "execution_count": 79,
   "metadata": {},
   "outputs": [
    {
     "name": "stdout",
     "output_type": "stream",
     "text": [
      "File: salaries.csv\n",
      "Length of file: 300024 rows\n",
      "Number of columns: 2\n",
      "- Column 0: 'emp_no' has 300024 unique values, and can be used as primary key. Values are numeric. Suggest: INT\n",
      "- Column 1: 'salary' has 50355 unique values. Values are numeric. Suggest: INT\n",
      "Extract of data:\n"
     ]
    },
    {
     "data": {
      "text/html": [
       "<div>\n",
       "<style scoped>\n",
       "    .dataframe tbody tr th:only-of-type {\n",
       "        vertical-align: middle;\n",
       "    }\n",
       "\n",
       "    .dataframe tbody tr th {\n",
       "        vertical-align: top;\n",
       "    }\n",
       "\n",
       "    .dataframe thead th {\n",
       "        text-align: right;\n",
       "    }\n",
       "</style>\n",
       "<table border=\"1\" class=\"dataframe\">\n",
       "  <thead>\n",
       "    <tr style=\"text-align: right;\">\n",
       "      <th></th>\n",
       "      <th>emp_no</th>\n",
       "      <th>salary</th>\n",
       "    </tr>\n",
       "  </thead>\n",
       "  <tbody>\n",
       "    <tr>\n",
       "      <th>0</th>\n",
       "      <td>10001</td>\n",
       "      <td>60117</td>\n",
       "    </tr>\n",
       "    <tr>\n",
       "      <th>1</th>\n",
       "      <td>10002</td>\n",
       "      <td>65828</td>\n",
       "    </tr>\n",
       "  </tbody>\n",
       "</table>\n",
       "</div>"
      ],
      "text/plain": [
       "   emp_no  salary\n",
       "0   10001   60117\n",
       "1   10002   65828"
      ]
     },
     "metadata": {},
     "output_type": "display_data"
    }
   ],
   "source": [
    "filename = 'salaries.csv'\n",
    "df = explore_data(filename)"
   ]
  },
  {
   "cell_type": "markdown",
   "metadata": {},
   "source": [
    "## File 6: titles.csv"
   ]
  },
  {
   "cell_type": "code",
   "execution_count": 80,
   "metadata": {},
   "outputs": [
    {
     "name": "stdout",
     "output_type": "stream",
     "text": [
      "File: titles.csv\n",
      "Length of file: 7 rows\n",
      "Number of columns: 2\n",
      "- Column 0: 'title_id' has 7 unique values, and can be used as primary key. Values are strings. Suggest: VARCHAR(5)\n",
      "- Column 1: 'title' has 7 unique values, and can be used as primary key. Values are strings. Suggest: VARCHAR(18)\n",
      "Extract of data:\n"
     ]
    },
    {
     "data": {
      "text/html": [
       "<div>\n",
       "<style scoped>\n",
       "    .dataframe tbody tr th:only-of-type {\n",
       "        vertical-align: middle;\n",
       "    }\n",
       "\n",
       "    .dataframe tbody tr th {\n",
       "        vertical-align: top;\n",
       "    }\n",
       "\n",
       "    .dataframe thead th {\n",
       "        text-align: right;\n",
       "    }\n",
       "</style>\n",
       "<table border=\"1\" class=\"dataframe\">\n",
       "  <thead>\n",
       "    <tr style=\"text-align: right;\">\n",
       "      <th></th>\n",
       "      <th>title_id</th>\n",
       "      <th>title</th>\n",
       "    </tr>\n",
       "  </thead>\n",
       "  <tbody>\n",
       "    <tr>\n",
       "      <th>0</th>\n",
       "      <td>s0001</td>\n",
       "      <td>Staff</td>\n",
       "    </tr>\n",
       "    <tr>\n",
       "      <th>1</th>\n",
       "      <td>s0002</td>\n",
       "      <td>Senior Staff</td>\n",
       "    </tr>\n",
       "  </tbody>\n",
       "</table>\n",
       "</div>"
      ],
      "text/plain": [
       "  title_id         title\n",
       "0    s0001         Staff\n",
       "1    s0002  Senior Staff"
      ]
     },
     "metadata": {},
     "output_type": "display_data"
    }
   ],
   "source": [
    "filename = 'titles.csv'\n",
    "df = explore_data(filename)"
   ]
  },
  {
   "cell_type": "markdown",
   "metadata": {},
   "source": [
    "# Conclusions from the exploration\n",
    "## Conclusions from File 1\n",
    "1. Column `dept_no` should be used as PRIMARY KEY.\n",
    "2. No FOREIGN KEY are used.\n",
    "\n",
    "## Conclusion from File 2\n",
    "1. Column `emp_no` has repeating values. An employee can therefore be part of multiple departments.\n",
    "2. Column `dept_no` has repeating values. A depeartment can therefore include multiple employees.\n",
    "3. No PRIMARY KEY can be defined with the existing values.\n",
    "\n",
    "## Conclusions from File 3\n",
    "1. Column `dept_no` has repeating values. A department may therefore have multiple managers.\n",
    "2. Column `emp_no` has no repeating values. An employee can then be manager in only one department.\n",
    "\n",
    "## Conclusions from File 4\n",
    "1. Column `emp_no` should be used as PRIMARY KEY.\n",
    "2. All the other columns have repeating values.\n",
    "3. Columns `birth_date` and `hire_date` are in format MDY (US)\n",
    "\n",
    "## Conclusions from File 5\n",
    "1. Column `emp_no` has no repeating values. Each employee is therefore paid only one salary (although they may be part of multiple departments.)\n",
    "2. Column `salary` has repeating values. Employees may be on the same salary.\n",
    "\n",
    "## Conclusions from File 6\n",
    "1. Column `title_id` should be used as PRIMARY KEY.\n",
    "2. Column `title` has no repeating values."
   ]
  },
  {
   "cell_type": "markdown",
   "metadata": {},
   "source": [
    "# Quick Database Diagram\n",
    "The following code can be used on https://app.quickdatabasediagrams.com to create the data model."
   ]
  },
  {
   "cell_type": "raw",
   "metadata": {},
   "source": [
    "# Modify this code to update the DB schema diagram.\n",
    "# To reset the sample schema, replace everything with\n",
    "# two dots ('..' - without quotes).\n",
    "\n",
    "departments\n",
    "--\n",
    "dept_no VARCHAR(4) PK\n",
    "dept_name VARCHAR(18)\n",
    "\n",
    "dept_emp\n",
    "--\n",
    "emp_no INT FK >- employees.emp_no\n",
    "dept_no VARCHAR(4) FK >- departments.dept_no\n",
    "\n",
    "dept_manager\n",
    "--\n",
    "dept_no VARCHAR(4) FK >- departments.dept_no\n",
    "emp_no INT FK - employees.emp_no\n",
    "\n",
    "employees\n",
    "--\n",
    "emp_no INT PK\n",
    "emp_title_id VARCHAR(5) FK >- titles.title_id\n",
    "birth_date DATE\n",
    "first_name VARCHAR(14)\n",
    "last_name VARCHAR(16)\n",
    "sex CHAR(1)\n",
    "hire_date DATE\n",
    "\n",
    "salaries\n",
    "--\n",
    "emp_no INT FK - employees.emp_no\n",
    "salary INT\n",
    "\n",
    "titles\n",
    "--\n",
    "title_id VARCHAR(5) PK\n",
    "title VARCHAR(18)\n"
   ]
  }
 ],
 "metadata": {
  "kernelspec": {
   "display_name": "dev",
   "language": "python",
   "name": "python3"
  },
  "language_info": {
   "codemirror_mode": {
    "name": "ipython",
    "version": 3
   },
   "file_extension": ".py",
   "mimetype": "text/x-python",
   "name": "python",
   "nbconvert_exporter": "python",
   "pygments_lexer": "ipython3",
   "version": "3.10.11"
  },
  "orig_nbformat": 4
 },
 "nbformat": 4,
 "nbformat_minor": 2
}
